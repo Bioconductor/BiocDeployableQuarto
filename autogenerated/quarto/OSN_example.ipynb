{
  "cells": [
    {
      "cell_type": "markdown",
      "metadata": {},
      "source": [
        "# OSN_example: demonstrate usage of Open Storage Network resources for\n",
        "\n",
        "multiplex imaging data\n",
        "\n",
        "Vincent J. Carey, stvjc at channing.harvard.edu  \n",
        "Ludwig Geistlinger, ludwig_geistlinger at hms.harvard.edu  \n",
        "Alex Mahmoud, almahmoud at channing.harvard.edu  \n",
        "4/10/23\n",
        "\n",
        "# Introduction\n",
        "\n",
        "The purpose of this vignette is to briefly describe access to a tissue\n",
        "microarray dataset lodged in the NSF ACCESS Open Storage Network (OSN).\n",
        "\n",
        "# TMA11\n",
        "\n",
        "## Synapse repository\n",
        "\n",
        "This [Synapse](https://www.synapse.org) repository contains data related\n",
        "to the MCMICRO system as described in a recent [Nature Methods\n",
        "paper](https://doi.org/10.1038/s41592-021-01308-y).\n",
        "\n",
        "    https://www.synapse.org/#!Synapse:syn22345749\n",
        "\n",
        "## OSN address and query\n",
        "\n",
        "    You can browse the TMA11 data at the following address: https://mghp.osn.xsede.org/bir190004-bucket01/index.html#TMA11/\n",
        "\n",
        "The data is free and publicly accessible and can be downloaded locally\n",
        "or accessed remotely.\n",
        "\n",
        "### Python Example\n",
        "\n",
        "In python, the fifth core in the array can be read using"
      ],
      "id": "6fd86645-34b4-4370-bac6-f0cf39f46d42"
    },
    {
      "cell_type": "code",
      "execution_count": null,
      "metadata": {},
      "outputs": [
        {
          "output_type": "stream",
          "name": "stdout",
          "text": [
            "array([[[ 95,  73, 127, ...,  93,  77, 166],\n",
            "        [107, 111, 126, ...,  53,  78,  62],\n",
            "        [110,  84, 118, ..., 118,  92,  73],\n",
            "        ...,\n",
            "        [ 53,  55,  90, ...,  60,  91,  89],\n",
            "        [ 74,  56, 106, ..., 123,  95,  86],\n",
            "        [100,  57,  94, ..., 109, 112,  78]],\n",
            "\n",
            "       [[199, 181, 218, ..., 232, 155, 163],\n",
            "        [200, 203, 190, ..., 206, 180, 212],\n",
            "        [240, 249, 207, ..., 184, 218, 163],\n",
            "        ...,\n",
            "        [177, 182, 188, ..., 235, 269, 192],\n",
            "        [253, 266, 243, ..., 187, 206, 200],\n",
            "        [245, 224, 217, ..., 170, 133, 214]],\n",
            "\n",
            "       [[ 91,  80,  80, ...,  95,  15, 100],\n",
            "        [ 59,  41,  58, ...,  72,  80,   0],\n",
            "        [ 39,  47,  73, ...,  37,  61,  81],\n",
            "        ...,\n",
            "        [ 71,  51,   2, ...,  75,  41,  52],\n",
            "        [ 62,  62,  66, ...,  70,  78,  65],\n",
            "        [ 40,  35,  83, ...,  38,  61,  55]],\n",
            "\n",
            "       ...,\n",
            "\n",
            "       [[253, 258, 296, ..., 319, 252, 240],\n",
            "        [292, 314, 296, ..., 220, 303, 267],\n",
            "        [294, 256, 258, ..., 283, 244, 291],\n",
            "        ...,\n",
            "        [251, 283, 359, ..., 333, 213, 219],\n",
            "        [268, 296, 309, ..., 277, 236, 250],\n",
            "        [320, 258, 301, ..., 226, 250, 283]],\n",
            "\n",
            "       [[ 83,  72,  91, ...,  65,  84,  58],\n",
            "        [ 94,  76,  89, ...,  71, 113,  85],\n",
            "        [ 98,  94, 105, ..., 129, 159,  69],\n",
            "        ...,\n",
            "        [ 67,  62,  85, ..., 103,  99,  93],\n",
            "        [ 89,  55,  93, ...,  96,  85,  77],\n",
            "        [105,  75, 111, ...,  70,  76, 106]],\n",
            "\n",
            "       [[311, 223, 257, ..., 252, 288, 258],\n",
            "        [242, 235, 278, ..., 311, 231, 229],\n",
            "        [243, 298, 309, ..., 232, 213, 221],\n",
            "        ...,\n",
            "        [424, 382, 419, ..., 280, 291, 321],\n",
            "        [402, 393, 328, ..., 325, 366, 370],\n",
            "        [437, 418, 387, ..., 343, 402, 336]]], dtype=uint16)"
          ]
        }
      ],
      "source": [
        "import s3fs\n",
        "import zarr\n",
        "fs = s3fs.S3FileSystem(anon=True, key=\"dummy\", secret=\"dummy\", \n",
        "    client_kwargs={'endpoint_url': \"https://mghp.osn.xsede.org/\"})\n",
        "mapper = fs.get_mapper('bir190004-bucket01/TMA11/zarr/5.zarr')\n",
        "zarr.load(mapper)"
      ],
      "id": "c2e7c889-453c-4181-a95f-b45d9f2191b1"
    },
    {
      "cell_type": "markdown",
      "metadata": {},
      "source": [
        "### R example\n",
        "\n",
        "In R, the following can be used, once zarr’s python library has been\n",
        "installed in the appropriate python distribution."
      ],
      "id": "8b54470c-978e-4833-a36f-d919829836c0"
    },
    {
      "cell_type": "code",
      "execution_count": null,
      "metadata": {},
      "outputs": [
        {
          "output_type": "stream",
          "name": "stdout",
          "text": [
            "[1]   64 3007 3007"
          ]
        }
      ],
      "source": [
        "library(reticulate)\n",
        "s3fs = import(\"s3fs\")\n",
        "zr = import(\"zarr\")\n",
        "fs = s3fs$S3FileSystem(anon='True', key=\"dummy\", secret=\"dummy\",\n",
        "    client_kwargs=list(endpoint_url = 'https://mghp.osn.xsede.org/'))\n",
        "mapper = fs$get_mapper('bir190004-bucket01/TMA11/zarr/5.zarr')\n",
        "c5 = zr$load(mapper)\n",
        "dim(c5)"
      ],
      "id": "6412a388-a7e9-4e4c-b138-3ae1f39a1473"
    },
    {
      "cell_type": "markdown",
      "metadata": {},
      "source": [
        "On a decent network connection the load takes under 20 seconds. This can\n",
        "also vary based on your geographical proximity to the hosting pods. The\n",
        "data is hosted on the Open Storage Network in the United States.\n",
        "\n",
        "The R array c5 serializes to about 1 GB of numeric data (64 x 3007 x\n",
        "3007)."
      ],
      "id": "d607dad7-e498-4280-9f6b-7e63d5f82a11"
    }
  ],
  "nbformat": 4,
  "nbformat_minor": 5,
  "metadata": {
    "kernelspec": {
      "display_name": "Python 3",
      "language": "python",
      "name": "python3"
    }
  }
}